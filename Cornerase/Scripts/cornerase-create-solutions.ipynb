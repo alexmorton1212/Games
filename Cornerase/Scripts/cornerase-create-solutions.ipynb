{
 "cells": [
  {
   "cell_type": "markdown",
   "metadata": {},
   "source": [
    "### Import Libraries"
   ]
  },
  {
   "cell_type": "code",
   "execution_count": 1,
   "metadata": {},
   "outputs": [],
   "source": [
    "import pandas as pd\n",
    "import numpy as np\n",
    "import itertools as iter\n",
    "import json\n",
    "from json import dump"
   ]
  },
  {
   "cell_type": "markdown",
   "metadata": {},
   "source": [
    "### Read In Master Word Dataframe"
   ]
  },
  {
   "cell_type": "code",
   "execution_count": 2,
   "metadata": {},
   "outputs": [],
   "source": [
    "words_df = pd.read_csv('WordLists/letterase-my-word-list.txt', sep=\"\\t\")[['Word']]"
   ]
  },
  {
   "cell_type": "markdown",
   "metadata": {},
   "source": [
    "### Corner 1"
   ]
  },
  {
   "cell_type": "code",
   "execution_count": 3,
   "metadata": {},
   "outputs": [],
   "source": [
    "\n",
    "### CORNER 1: WORD (1) + WORD (2)\n",
    "\n",
    "c1_df = pd.merge(words_df, words_df, how='cross').rename(columns = {\"Word_x\":\"w1\", \"Word_y\":\"w2\"})\n",
    "filtered1_df = c1_df[(c1_df['w1'].str[0] == c1_df['w2'].str[0]) & (c1_df['w1'].str[1] == c1_df['w2'].str[1]) & (c1_df['w1'] != c1_df['w2'])]\n"
   ]
  },
  {
   "cell_type": "markdown",
   "metadata": {},
   "source": [
    "### Corner 2"
   ]
  },
  {
   "cell_type": "code",
   "execution_count": 4,
   "metadata": {},
   "outputs": [],
   "source": [
    "\n",
    "### CORNER 2: WORD (1) + WORD (3)\n",
    "\n",
    "c2_df = pd.merge(words_df, words_df, how='cross').rename(columns = {\"Word_x\":\"w1\", \"Word_y\":\"w3\"})\n",
    "filtered2_df = c2_df[(c2_df['w1'].str[3] == c2_df['w3'].str[1]) & (c2_df['w1'].str[4] == c2_df['w3'].str[0]) & (c2_df['w1'] != c2_df['w3'])]\n"
   ]
  },
  {
   "cell_type": "markdown",
   "metadata": {},
   "source": [
    "### Corner 3"
   ]
  },
  {
   "cell_type": "code",
   "execution_count": 5,
   "metadata": {},
   "outputs": [],
   "source": [
    "\n",
    "### CORNER 3: WORD (2) + WORD (4)\n",
    "\n",
    "c3_df = pd.merge(words_df, words_df, how='cross').rename(columns = {\"Word_x\":\"w2\", \"Word_y\":\"w4\"})\n",
    "filtered3_df = c3_df[(c3_df['w2'].str[3] == c3_df['w4'].str[1]) & (c3_df['w2'].str[4] == c3_df['w4'].str[0]) & (c3_df['w2'] != c3_df['w4'])]\n"
   ]
  },
  {
   "cell_type": "markdown",
   "metadata": {},
   "source": [
    "### Corner 4"
   ]
  },
  {
   "cell_type": "code",
   "execution_count": 6,
   "metadata": {},
   "outputs": [],
   "source": [
    "\n",
    "### CORNER 4: WORD (3) + WORD (4)\n",
    "\n",
    "c4_df = pd.merge(words_df, words_df, how='cross').rename(columns = {\"Word_x\":\"w3\", \"Word_y\":\"w4\"})\n",
    "filtered4_df = c4_df[(c4_df['w3'].str[3] == c4_df['w4'].str[3]) & (c4_df['w3'].str[4] == c4_df['w4'].str[4]) & (c4_df['w3'] != c4_df['w4'])]\n"
   ]
  },
  {
   "cell_type": "markdown",
   "metadata": {},
   "source": [
    "### Merge 1"
   ]
  },
  {
   "cell_type": "code",
   "execution_count": 7,
   "metadata": {},
   "outputs": [],
   "source": [
    "\n",
    "m1_df = pd.merge(filtered1_df, filtered2_df, on='w1', how='inner')\n",
    "\n",
    "# REMOVE ROWS WITH DUPLICATES\n",
    "\n",
    "m1_final_df = m1_df[~m1_df.apply(lambda x: x.duplicated().any(), axis=1)]\n"
   ]
  },
  {
   "cell_type": "markdown",
   "metadata": {},
   "source": [
    "### Merge 2"
   ]
  },
  {
   "cell_type": "code",
   "execution_count": 8,
   "metadata": {},
   "outputs": [],
   "source": [
    "\n",
    "m2_df = pd.merge(filtered3_df, filtered4_df, on='w4', how='inner')\n",
    "\n",
    "# REMOVE ROWS WITH DUPLICATES\n",
    "\n",
    "m2_final_df = m2_df[~m2_df.apply(lambda x: x.duplicated().any(), axis=1)]\n"
   ]
  },
  {
   "cell_type": "markdown",
   "metadata": {},
   "source": [
    "### Merge 3"
   ]
  },
  {
   "cell_type": "code",
   "execution_count": 12,
   "metadata": {},
   "outputs": [],
   "source": [
    "m3_df = pd.merge(m1_final_df, m2_final_df, on=['w2','w3'], how='inner')\n",
    "\n",
    "# REMOVE ROWS WITH DUPLICATES\n",
    "\n",
    "m3_final_df = m3_df[~m3_df.apply(lambda x: x.duplicated().any(), axis=1)]\n",
    "\n",
    "final_df = m3_final_df.sample(frac=0.1).reset_index(drop=True)\n"
   ]
  },
  {
   "cell_type": "markdown",
   "metadata": {},
   "source": [
    "### View Solution List"
   ]
  },
  {
   "cell_type": "code",
   "execution_count": 13,
   "metadata": {},
   "outputs": [
    {
     "data": {
      "text/html": [
       "<div>\n",
       "<style scoped>\n",
       "    .dataframe tbody tr th:only-of-type {\n",
       "        vertical-align: middle;\n",
       "    }\n",
       "\n",
       "    .dataframe tbody tr th {\n",
       "        vertical-align: top;\n",
       "    }\n",
       "\n",
       "    .dataframe thead th {\n",
       "        text-align: right;\n",
       "    }\n",
       "</style>\n",
       "<table border=\"1\" class=\"dataframe\">\n",
       "  <thead>\n",
       "    <tr style=\"text-align: right;\">\n",
       "      <th></th>\n",
       "      <th>w1</th>\n",
       "      <th>w2</th>\n",
       "      <th>w3</th>\n",
       "      <th>w4</th>\n",
       "    </tr>\n",
       "  </thead>\n",
       "  <tbody>\n",
       "    <tr>\n",
       "      <th>0</th>\n",
       "      <td>roles</td>\n",
       "      <td>robes</td>\n",
       "      <td>seeds</td>\n",
       "      <td>sends</td>\n",
       "    </tr>\n",
       "    <tr>\n",
       "      <th>1</th>\n",
       "      <td>flops</td>\n",
       "      <td>floor</td>\n",
       "      <td>spits</td>\n",
       "      <td>roots</td>\n",
       "    </tr>\n",
       "    <tr>\n",
       "      <th>2</th>\n",
       "      <td>sheep</td>\n",
       "      <td>shuts</td>\n",
       "      <td>peter</td>\n",
       "      <td>steer</td>\n",
       "    </tr>\n",
       "    <tr>\n",
       "      <th>3</th>\n",
       "      <td>devil</td>\n",
       "      <td>debar</td>\n",
       "      <td>likes</td>\n",
       "      <td>rages</td>\n",
       "    </tr>\n",
       "    <tr>\n",
       "      <th>4</th>\n",
       "      <td>idler</td>\n",
       "      <td>idiot</td>\n",
       "      <td>regal</td>\n",
       "      <td>total</td>\n",
       "    </tr>\n",
       "    <tr>\n",
       "      <th>...</th>\n",
       "      <td>...</td>\n",
       "      <td>...</td>\n",
       "      <td>...</td>\n",
       "      <td>...</td>\n",
       "    </tr>\n",
       "    <tr>\n",
       "      <th>17564</th>\n",
       "      <td>casts</td>\n",
       "      <td>camps</td>\n",
       "      <td>stuck</td>\n",
       "      <td>speck</td>\n",
       "    </tr>\n",
       "    <tr>\n",
       "      <th>17565</th>\n",
       "      <td>spins</td>\n",
       "      <td>spits</td>\n",
       "      <td>snuck</td>\n",
       "      <td>stick</td>\n",
       "    </tr>\n",
       "    <tr>\n",
       "      <th>17566</th>\n",
       "      <td>vixen</td>\n",
       "      <td>vital</td>\n",
       "      <td>newer</td>\n",
       "      <td>later</td>\n",
       "    </tr>\n",
       "    <tr>\n",
       "      <th>17567</th>\n",
       "      <td>poker</td>\n",
       "      <td>posts</td>\n",
       "      <td>resin</td>\n",
       "      <td>stain</td>\n",
       "    </tr>\n",
       "    <tr>\n",
       "      <th>17568</th>\n",
       "      <td>fires</td>\n",
       "      <td>fight</td>\n",
       "      <td>sense</td>\n",
       "      <td>those</td>\n",
       "    </tr>\n",
       "  </tbody>\n",
       "</table>\n",
       "<p>17569 rows × 4 columns</p>\n",
       "</div>"
      ],
      "text/plain": [
       "          w1     w2     w3     w4\n",
       "0      roles  robes  seeds  sends\n",
       "1      flops  floor  spits  roots\n",
       "2      sheep  shuts  peter  steer\n",
       "3      devil  debar  likes  rages\n",
       "4      idler  idiot  regal  total\n",
       "...      ...    ...    ...    ...\n",
       "17564  casts  camps  stuck  speck\n",
       "17565  spins  spits  snuck  stick\n",
       "17566  vixen  vital  newer  later\n",
       "17567  poker  posts  resin  stain\n",
       "17568  fires  fight  sense  those\n",
       "\n",
       "[17569 rows x 4 columns]"
      ]
     },
     "execution_count": 13,
     "metadata": {},
     "output_type": "execute_result"
    }
   ],
   "source": [
    "final_df"
   ]
  },
  {
   "cell_type": "markdown",
   "metadata": {},
   "source": [
    "### Export Solutions"
   ]
  },
  {
   "cell_type": "code",
   "execution_count": null,
   "metadata": {},
   "outputs": [],
   "source": [
    "# EXPORT SOLUTIONS\n",
    "\n",
    "result = final_df.to_json(orient=\"index\")\n",
    "output_data = 'cornerase_data.json'\n",
    "\n",
    "with open(output_data, 'w') as f:\n",
    "    dump(result, f)"
   ]
  },
  {
   "cell_type": "markdown",
   "metadata": {},
   "source": [
    "### Export Word List"
   ]
  },
  {
   "cell_type": "code",
   "execution_count": null,
   "metadata": {},
   "outputs": [],
   "source": [
    "words = pd.read_csv(\"WordLists/letterase-my-word-list.txt\", sep=\"\\t\")['Word'].tolist()\n",
    "words_upper = [s.upper() for s in words]\n",
    "json_string = json.dumps(words_upper)\n",
    "\n",
    "with open(\"double_word_list.json\", \"w\") as f:\n",
    "    json.dump(words_upper, f)"
   ]
  }
 ],
 "metadata": {
  "kernelspec": {
   "display_name": "Python 3.12.3 64-bit",
   "language": "python",
   "name": "python3"
  },
  "language_info": {
   "codemirror_mode": {
    "name": "ipython",
    "version": 3
   },
   "file_extension": ".py",
   "mimetype": "text/x-python",
   "name": "python",
   "nbconvert_exporter": "python",
   "pygments_lexer": "ipython3",
   "version": "3.12.3"
  },
  "vscode": {
   "interpreter": {
    "hash": "b0fa6594d8f4cbf19f97940f81e996739fb7646882a419484c72d19e05852a7e"
   }
  }
 },
 "nbformat": 4,
 "nbformat_minor": 2
}
