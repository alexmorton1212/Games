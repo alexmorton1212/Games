{
 "cells": [
  {
   "cell_type": "markdown",
   "metadata": {},
   "source": [
    "### Import Libraries"
   ]
  },
  {
   "cell_type": "code",
   "execution_count": 1,
   "metadata": {},
   "outputs": [],
   "source": [
    "import pandas as pd\n",
    "import numpy as np\n",
    "import itertools as iter\n",
    "import json\n",
    "from json import dump"
   ]
  },
  {
   "cell_type": "markdown",
   "metadata": {},
   "source": [
    "### Read In Master Word Dataframe"
   ]
  },
  {
   "cell_type": "code",
   "execution_count": 2,
   "metadata": {},
   "outputs": [],
   "source": [
    "words_df = pd.read_csv('WordLists/letterase-my-word-list.txt', sep=\"\\t\")[['Word']]"
   ]
  },
  {
   "cell_type": "markdown",
   "metadata": {},
   "source": [
    "### Corner 1"
   ]
  },
  {
   "cell_type": "code",
   "execution_count": 3,
   "metadata": {},
   "outputs": [],
   "source": [
    "\n",
    "### CORNER 1: WORD (1) + WORD (2)\n",
    "\n",
    "c1_df = pd.merge(words_df, words_df, how='cross').rename(columns = {\"Word_x\":\"w1\", \"Word_y\":\"w2\"})\n",
    "filtered1_df = c1_df[(c1_df['w1'].str[0] == c1_df['w2'].str[0]) & (c1_df['w1'].str[1] == c1_df['w2'].str[1]) & (c1_df['w1'] != c1_df['w2'])]\n"
   ]
  },
  {
   "cell_type": "markdown",
   "metadata": {},
   "source": [
    "### Corner 2"
   ]
  },
  {
   "cell_type": "code",
   "execution_count": 4,
   "metadata": {},
   "outputs": [],
   "source": [
    "\n",
    "### CORNER 2: WORD (1) + WORD (3)\n",
    "\n",
    "c2_df = pd.merge(words_df, words_df, how='cross').rename(columns = {\"Word_x\":\"w1\", \"Word_y\":\"w3\"})\n",
    "filtered2_df = c2_df[(c2_df['w1'].str[3] == c2_df['w3'].str[1]) & (c2_df['w1'].str[4] == c2_df['w3'].str[0]) & (c2_df['w1'] != c2_df['w3'])]\n"
   ]
  },
  {
   "cell_type": "markdown",
   "metadata": {},
   "source": [
    "### Corner 3"
   ]
  },
  {
   "cell_type": "code",
   "execution_count": 5,
   "metadata": {},
   "outputs": [],
   "source": [
    "\n",
    "### CORNER 3: WORD (2) + WORD (4)\n",
    "\n",
    "c3_df = pd.merge(words_df, words_df, how='cross').rename(columns = {\"Word_x\":\"w2\", \"Word_y\":\"w4\"})\n",
    "filtered3_df = c3_df[(c3_df['w2'].str[3] == c3_df['w4'].str[1]) & (c3_df['w2'].str[4] == c3_df['w4'].str[0]) & (c3_df['w2'] != c3_df['w4'])]\n"
   ]
  },
  {
   "cell_type": "markdown",
   "metadata": {},
   "source": [
    "### Corner 4"
   ]
  },
  {
   "cell_type": "code",
   "execution_count": 6,
   "metadata": {},
   "outputs": [],
   "source": [
    "\n",
    "### CORNER 4: WORD (3) + WORD (4)\n",
    "\n",
    "c4_df = pd.merge(words_df, words_df, how='cross').rename(columns = {\"Word_x\":\"w3\", \"Word_y\":\"w4\"})\n",
    "filtered4_df = c4_df[(c4_df['w3'].str[3] == c4_df['w4'].str[3]) & (c4_df['w3'].str[4] == c4_df['w4'].str[4]) & (c4_df['w3'] != c4_df['w4'])]\n"
   ]
  },
  {
   "cell_type": "markdown",
   "metadata": {},
   "source": [
    "### Merge 1"
   ]
  },
  {
   "cell_type": "code",
   "execution_count": 7,
   "metadata": {},
   "outputs": [],
   "source": [
    "\n",
    "m1_df = pd.merge(filtered1_df, filtered2_df, on='w1', how='inner')\n",
    "\n",
    "# REMOVE ROWS WITH DUPLICATES\n",
    "\n",
    "m1_final_df = m1_df[~m1_df.apply(lambda x: x.duplicated().any(), axis=1)]\n"
   ]
  },
  {
   "cell_type": "markdown",
   "metadata": {},
   "source": [
    "### Merge 2"
   ]
  },
  {
   "cell_type": "code",
   "execution_count": 8,
   "metadata": {},
   "outputs": [],
   "source": [
    "\n",
    "m2_df = pd.merge(filtered3_df, filtered4_df, on='w4', how='inner')\n",
    "\n",
    "# REMOVE ROWS WITH DUPLICATES\n",
    "\n",
    "m2_final_df = m2_df[~m2_df.apply(lambda x: x.duplicated().any(), axis=1)]\n"
   ]
  },
  {
   "cell_type": "markdown",
   "metadata": {},
   "source": [
    "### Merge 3"
   ]
  },
  {
   "cell_type": "code",
   "execution_count": 9,
   "metadata": {},
   "outputs": [],
   "source": [
    "m3_df = pd.merge(m1_final_df, m2_final_df, on=['w2','w3'], how='inner')\n",
    "\n",
    "# REMOVE ROWS WITH DUPLICATES\n",
    "\n",
    "m3_final_df = m3_df[~m3_df.apply(lambda x: x.duplicated().any(), axis=1)]\n",
    "\n",
    "final_df = m3_final_df.sample(frac=0.1).reset_index(drop=True)\n"
   ]
  },
  {
   "cell_type": "markdown",
   "metadata": {},
   "source": [
    "### Remove Solutions"
   ]
  },
  {
   "cell_type": "code",
   "execution_count": 10,
   "metadata": {},
   "outputs": [],
   "source": [
    "\n",
    "# REMOVE SOLUTIONS WHERE CORNERS MATCH (2ND CORNER ON TOP AND 2ND CORNER ON LEFT)\n",
    "### Purpose: Need Check button to be valid\n",
    "\n",
    "final_clean_df = final_df[final_df['w1'].str[4] != final_df['w2'].str[4]].reset_index(drop=True)\n"
   ]
  },
  {
   "cell_type": "markdown",
   "metadata": {},
   "source": [
    "### View Solution List"
   ]
  },
  {
   "cell_type": "code",
   "execution_count": 11,
   "metadata": {},
   "outputs": [
    {
     "data": {
      "text/html": [
       "<div>\n",
       "<style scoped>\n",
       "    .dataframe tbody tr th:only-of-type {\n",
       "        vertical-align: middle;\n",
       "    }\n",
       "\n",
       "    .dataframe tbody tr th {\n",
       "        vertical-align: top;\n",
       "    }\n",
       "\n",
       "    .dataframe thead th {\n",
       "        text-align: right;\n",
       "    }\n",
       "</style>\n",
       "<table border=\"1\" class=\"dataframe\">\n",
       "  <thead>\n",
       "    <tr style=\"text-align: right;\">\n",
       "      <th></th>\n",
       "      <th>w1</th>\n",
       "      <th>w2</th>\n",
       "      <th>w3</th>\n",
       "      <th>w4</th>\n",
       "    </tr>\n",
       "  </thead>\n",
       "  <tbody>\n",
       "    <tr>\n",
       "      <th>0</th>\n",
       "      <td>costs</td>\n",
       "      <td>court</td>\n",
       "      <td>stoop</td>\n",
       "      <td>troop</td>\n",
       "    </tr>\n",
       "    <tr>\n",
       "      <th>1</th>\n",
       "      <td>cadet</td>\n",
       "      <td>caged</td>\n",
       "      <td>tense</td>\n",
       "      <td>dense</td>\n",
       "    </tr>\n",
       "    <tr>\n",
       "      <th>2</th>\n",
       "      <td>ovine</td>\n",
       "      <td>overt</td>\n",
       "      <td>ended</td>\n",
       "      <td>tried</td>\n",
       "    </tr>\n",
       "    <tr>\n",
       "      <th>3</th>\n",
       "      <td>rabid</td>\n",
       "      <td>rates</td>\n",
       "      <td>diver</td>\n",
       "      <td>sewer</td>\n",
       "    </tr>\n",
       "    <tr>\n",
       "      <th>4</th>\n",
       "      <td>drool</td>\n",
       "      <td>dryer</td>\n",
       "      <td>local</td>\n",
       "      <td>regal</td>\n",
       "    </tr>\n",
       "    <tr>\n",
       "      <th>...</th>\n",
       "      <td>...</td>\n",
       "      <td>...</td>\n",
       "      <td>...</td>\n",
       "      <td>...</td>\n",
       "    </tr>\n",
       "    <tr>\n",
       "      <th>13256</th>\n",
       "      <td>liken</td>\n",
       "      <td>lines</td>\n",
       "      <td>needy</td>\n",
       "      <td>seedy</td>\n",
       "    </tr>\n",
       "    <tr>\n",
       "      <th>13257</th>\n",
       "      <td>piles</td>\n",
       "      <td>piled</td>\n",
       "      <td>sever</td>\n",
       "      <td>deter</td>\n",
       "    </tr>\n",
       "    <tr>\n",
       "      <th>13258</th>\n",
       "      <td>sonar</td>\n",
       "      <td>soups</td>\n",
       "      <td>rainy</td>\n",
       "      <td>spiny</td>\n",
       "    </tr>\n",
       "    <tr>\n",
       "      <th>13259</th>\n",
       "      <td>poets</td>\n",
       "      <td>poker</td>\n",
       "      <td>study</td>\n",
       "      <td>ready</td>\n",
       "    </tr>\n",
       "    <tr>\n",
       "      <th>13260</th>\n",
       "      <td>lived</td>\n",
       "      <td>libel</td>\n",
       "      <td>dense</td>\n",
       "      <td>lease</td>\n",
       "    </tr>\n",
       "  </tbody>\n",
       "</table>\n",
       "<p>13261 rows × 4 columns</p>\n",
       "</div>"
      ],
      "text/plain": [
       "          w1     w2     w3     w4\n",
       "0      costs  court  stoop  troop\n",
       "1      cadet  caged  tense  dense\n",
       "2      ovine  overt  ended  tried\n",
       "3      rabid  rates  diver  sewer\n",
       "4      drool  dryer  local  regal\n",
       "...      ...    ...    ...    ...\n",
       "13256  liken  lines  needy  seedy\n",
       "13257  piles  piled  sever  deter\n",
       "13258  sonar  soups  rainy  spiny\n",
       "13259  poets  poker  study  ready\n",
       "13260  lived  libel  dense  lease\n",
       "\n",
       "[13261 rows x 4 columns]"
      ]
     },
     "execution_count": 11,
     "metadata": {},
     "output_type": "execute_result"
    }
   ],
   "source": [
    "\n",
    "# make sure this doesnt have the index column\n",
    "\n",
    "final_clean_df"
   ]
  },
  {
   "cell_type": "markdown",
   "metadata": {},
   "source": [
    "### Export Solutions"
   ]
  },
  {
   "cell_type": "code",
   "execution_count": 12,
   "metadata": {},
   "outputs": [],
   "source": [
    "# EXPORT SOLUTIONS\n",
    "\n",
    "result = final_clean_df.to_json(orient=\"index\")\n",
    "output_data = 'cornerase_data.json'\n",
    "\n",
    "with open(output_data, 'w') as f:\n",
    "    dump(result, f)"
   ]
  },
  {
   "cell_type": "markdown",
   "metadata": {},
   "source": [
    "### Export Word List"
   ]
  },
  {
   "cell_type": "code",
   "execution_count": null,
   "metadata": {},
   "outputs": [],
   "source": [
    "words = pd.read_csv(\"WordLists/letterase-my-word-list.txt\", sep=\"\\t\")['Word'].tolist()\n",
    "words_upper = [s.upper() for s in words]\n",
    "json_string = json.dumps(words_upper)\n",
    "\n",
    "with open(\"double_word_list.json\", \"w\") as f:\n",
    "    json.dump(words_upper, f)"
   ]
  }
 ],
 "metadata": {
  "kernelspec": {
   "display_name": "Python 3.12.3 64-bit",
   "language": "python",
   "name": "python3"
  },
  "language_info": {
   "codemirror_mode": {
    "name": "ipython",
    "version": 3
   },
   "file_extension": ".py",
   "mimetype": "text/x-python",
   "name": "python",
   "nbconvert_exporter": "python",
   "pygments_lexer": "ipython3",
   "version": "3.12.3"
  },
  "vscode": {
   "interpreter": {
    "hash": "b0fa6594d8f4cbf19f97940f81e996739fb7646882a419484c72d19e05852a7e"
   }
  }
 },
 "nbformat": 4,
 "nbformat_minor": 2
}
