{
 "cells": [
  {
   "cell_type": "markdown",
   "metadata": {},
   "source": [
    "### Import Libraries"
   ]
  },
  {
   "cell_type": "code",
   "execution_count": 1,
   "metadata": {},
   "outputs": [],
   "source": [
    "import pandas as pd"
   ]
  },
  {
   "cell_type": "markdown",
   "metadata": {},
   "source": [
    "### Read Text Files & Create Master Word Dataframe"
   ]
  },
  {
   "cell_type": "code",
   "execution_count": 5,
   "metadata": {},
   "outputs": [],
   "source": [
    "\n",
    "# x is excluded because there are no common 5 letter words starting with x\n",
    "letters = ['a','b','c','d','e','f','g','h','i','j','k','l','m','n','o','p','q','r','s','t','u','v','w','y','z']\n",
    "\n",
    "word_list_final = pd.Series([], dtype='object')\n",
    "\n",
    "for letter in letters:\n",
    "    word_list_path = \"WordLists/\" + letter + \"-word-list.txt\"\n",
    "    word_list_x = pd.read_csv(word_list_path, sep=\"\\t\", header=None)[0]\n",
    "    word_list_final = pd.concat([word_list_final, word_list_x], ignore_index=True)\n",
    "    \n",
    "start1 = [x[:1] for x in word_list_final]\n",
    "end1 = [x[-1:] for x in word_list_final]\n",
    "start2 = [x[:2] for x in word_list_final]\n",
    "end2 = [x[-2:] for x in word_list_final]\n",
    "\n",
    "words_df = pd.DataFrame({'Word': word_list_final, 'Start1': start1, 'End1': end1, 'Start2': start2, 'End2': end2})\n"
   ]
  },
  {
   "cell_type": "markdown",
   "metadata": {},
   "source": [
    "### Check That All Words Are 5 Letters"
   ]
  },
  {
   "cell_type": "code",
   "execution_count": null,
   "metadata": {},
   "outputs": [],
   "source": [
    "mask = words_df['Word'].str.len() == 5\n",
    "words_df[~mask] # should be empty\n"
   ]
  },
  {
   "cell_type": "markdown",
   "metadata": {},
   "source": [
    "### Export Master Word Dataframe"
   ]
  },
  {
   "cell_type": "code",
   "execution_count": 12,
   "metadata": {},
   "outputs": [],
   "source": [
    "words_df.to_csv('letterase-my-word-list.txt', sep='\\t', index=False)"
   ]
  },
  {
   "cell_type": "markdown",
   "metadata": {},
   "source": [
    "### Read In Master Word Dataframe"
   ]
  },
  {
   "cell_type": "code",
   "execution_count": null,
   "metadata": {},
   "outputs": [
    {
     "data": {
      "text/html": [
       "<div>\n",
       "<style scoped>\n",
       "    .dataframe tbody tr th:only-of-type {\n",
       "        vertical-align: middle;\n",
       "    }\n",
       "\n",
       "    .dataframe tbody tr th {\n",
       "        vertical-align: top;\n",
       "    }\n",
       "\n",
       "    .dataframe thead th {\n",
       "        text-align: right;\n",
       "    }\n",
       "</style>\n",
       "<table border=\"1\" class=\"dataframe\">\n",
       "  <thead>\n",
       "    <tr style=\"text-align: right;\">\n",
       "      <th></th>\n",
       "      <th>Word</th>\n",
       "      <th>Start1</th>\n",
       "      <th>End1</th>\n",
       "      <th>Start2</th>\n",
       "      <th>End2</th>\n",
       "    </tr>\n",
       "  </thead>\n",
       "  <tbody>\n",
       "    <tr>\n",
       "      <th>0</th>\n",
       "      <td>aback</td>\n",
       "      <td>a</td>\n",
       "      <td>k</td>\n",
       "      <td>ab</td>\n",
       "      <td>ck</td>\n",
       "    </tr>\n",
       "    <tr>\n",
       "      <th>1</th>\n",
       "      <td>abase</td>\n",
       "      <td>a</td>\n",
       "      <td>e</td>\n",
       "      <td>ab</td>\n",
       "      <td>se</td>\n",
       "    </tr>\n",
       "    <tr>\n",
       "      <th>2</th>\n",
       "      <td>abate</td>\n",
       "      <td>a</td>\n",
       "      <td>e</td>\n",
       "      <td>ab</td>\n",
       "      <td>te</td>\n",
       "    </tr>\n",
       "    <tr>\n",
       "      <th>3</th>\n",
       "      <td>abbey</td>\n",
       "      <td>a</td>\n",
       "      <td>y</td>\n",
       "      <td>ab</td>\n",
       "      <td>ey</td>\n",
       "    </tr>\n",
       "    <tr>\n",
       "      <th>4</th>\n",
       "      <td>abhor</td>\n",
       "      <td>a</td>\n",
       "      <td>r</td>\n",
       "      <td>ab</td>\n",
       "      <td>or</td>\n",
       "    </tr>\n",
       "    <tr>\n",
       "      <th>...</th>\n",
       "      <td>...</td>\n",
       "      <td>...</td>\n",
       "      <td>...</td>\n",
       "      <td>...</td>\n",
       "      <td>...</td>\n",
       "    </tr>\n",
       "    <tr>\n",
       "      <th>2811</th>\n",
       "      <td>zebra</td>\n",
       "      <td>z</td>\n",
       "      <td>a</td>\n",
       "      <td>ze</td>\n",
       "      <td>ra</td>\n",
       "    </tr>\n",
       "    <tr>\n",
       "      <th>2812</th>\n",
       "      <td>zeros</td>\n",
       "      <td>z</td>\n",
       "      <td>s</td>\n",
       "      <td>ze</td>\n",
       "      <td>os</td>\n",
       "    </tr>\n",
       "    <tr>\n",
       "      <th>2813</th>\n",
       "      <td>zesty</td>\n",
       "      <td>z</td>\n",
       "      <td>y</td>\n",
       "      <td>ze</td>\n",
       "      <td>ty</td>\n",
       "    </tr>\n",
       "    <tr>\n",
       "      <th>2814</th>\n",
       "      <td>zoned</td>\n",
       "      <td>z</td>\n",
       "      <td>d</td>\n",
       "      <td>zo</td>\n",
       "      <td>ed</td>\n",
       "    </tr>\n",
       "    <tr>\n",
       "      <th>2815</th>\n",
       "      <td>zones</td>\n",
       "      <td>z</td>\n",
       "      <td>s</td>\n",
       "      <td>zo</td>\n",
       "      <td>es</td>\n",
       "    </tr>\n",
       "  </tbody>\n",
       "</table>\n",
       "<p>2816 rows × 5 columns</p>\n",
       "</div>"
      ],
      "text/plain": [
       "       Word Start1 End1 Start2 End2\n",
       "0     aback      a    k     ab   ck\n",
       "1     abase      a    e     ab   se\n",
       "2     abate      a    e     ab   te\n",
       "3     abbey      a    y     ab   ey\n",
       "4     abhor      a    r     ab   or\n",
       "...     ...    ...  ...    ...  ...\n",
       "2811  zebra      z    a     ze   ra\n",
       "2812  zeros      z    s     ze   os\n",
       "2813  zesty      z    y     ze   ty\n",
       "2814  zoned      z    d     zo   ed\n",
       "2815  zones      z    s     zo   es\n",
       "\n",
       "[2816 rows x 5 columns]"
      ]
     },
     "execution_count": 14,
     "metadata": {},
     "output_type": "execute_result"
    }
   ],
   "source": [
    "readin_df = pd.read_csv('letterase-my-word-list.txt', sep=\"\\t\")"
   ]
  }
 ],
 "metadata": {
  "kernelspec": {
   "display_name": "base",
   "language": "python",
   "name": "python3"
  },
  "language_info": {
   "codemirror_mode": {
    "name": "ipython",
    "version": 3
   },
   "file_extension": ".py",
   "mimetype": "text/x-python",
   "name": "python",
   "nbconvert_exporter": "python",
   "pygments_lexer": "ipython3",
   "version": "3.8.8"
  }
 },
 "nbformat": 4,
 "nbformat_minor": 2
}
