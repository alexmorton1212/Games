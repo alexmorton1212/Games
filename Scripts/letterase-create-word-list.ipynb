{
 "cells": [
  {
   "cell_type": "markdown",
   "metadata": {},
   "source": [
    "### Import Libraries"
   ]
  },
  {
   "cell_type": "code",
   "execution_count": null,
   "metadata": {},
   "outputs": [],
   "source": [
    "import pandas as pd"
   ]
  },
  {
   "cell_type": "markdown",
   "metadata": {},
   "source": [
    "### Read Text Files & Create Master Word Dataframe"
   ]
  },
  {
   "cell_type": "code",
   "execution_count": null,
   "metadata": {},
   "outputs": [],
   "source": [
    "\n",
    "# x is excluded because there are no common 5 letter words starting with x\n",
    "letters = ['a','b','c','d','e','f','g','h','i','j','k','l','m','n','o','p','q','r','s','t','u','v','w','y','z']\n",
    "\n",
    "word_list_final = pd.Series([], dtype='object')\n",
    "\n",
    "for letter in letters:\n",
    "    word_list_path = \"WordLists/\" + letter + \"-word-list.txt\"\n",
    "    word_list_x = pd.read_csv(word_list_path, sep=\"\\t\", header=None)[0]\n",
    "    word_list_final = pd.concat([word_list_final, word_list_x], ignore_index=True)\n",
    "    \n",
    "start1 = [x[:1] for x in word_list_final]\n",
    "end1 = [x[-1:] for x in word_list_final]\n",
    "start2 = [x[:2] for x in word_list_final]\n",
    "end2 = [x[-2:] for x in word_list_final]\n",
    "\n",
    "words_df = pd.DataFrame({'Word': word_list_final, 'Start1': start1, 'End1': end1, 'Start2': start2, 'End2': end2})\n"
   ]
  },
  {
   "cell_type": "code",
   "execution_count": null,
   "metadata": {},
   "outputs": [],
   "source": [
    "words_df"
   ]
  },
  {
   "cell_type": "markdown",
   "metadata": {},
   "source": [
    "### Export Master Word Dataframe"
   ]
  },
  {
   "cell_type": "code",
   "execution_count": null,
   "metadata": {},
   "outputs": [],
   "source": [
    "words_df.to_csv('letterase-my-word-list.txt', sep='\\t', index=False)"
   ]
  },
  {
   "cell_type": "markdown",
   "metadata": {},
   "source": [
    "### Read In Master Word Dataframe"
   ]
  },
  {
   "cell_type": "code",
   "execution_count": null,
   "metadata": {},
   "outputs": [],
   "source": [
    "readin_df = pd.read_csv('letterase-my-word-list.txt', sep=\"\\t\")"
   ]
  }
 ],
 "metadata": {
  "kernelspec": {
   "display_name": "base",
   "language": "python",
   "name": "python3"
  },
  "language_info": {
   "codemirror_mode": {
    "name": "ipython",
    "version": 3
   },
   "file_extension": ".py",
   "mimetype": "text/x-python",
   "name": "python",
   "nbconvert_exporter": "python",
   "pygments_lexer": "ipython3",
   "version": "3.8.8"
  }
 },
 "nbformat": 4,
 "nbformat_minor": 2
}
